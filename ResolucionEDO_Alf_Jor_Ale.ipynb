{
  "nbformat": 4,
  "nbformat_minor": 0,
  "metadata": {
    "colab": {
      "provenance": [],
      "collapsed_sections": [
        "2-d2gFCAusWZ",
        "2N4WHAAHuye4",
        "JhbcL2gP812f",
        "B36gZ2tj9SNW"
      ],
      "authorship_tag": "ABX9TyOagpbWN9jbUU/rRHZPKxns",
      "include_colab_link": true
    },
    "kernelspec": {
      "name": "python3",
      "display_name": "Python 3"
    },
    "language_info": {
      "name": "python"
    }
  },
  "cells": [
    {
      "cell_type": "markdown",
      "metadata": {
        "id": "view-in-github",
        "colab_type": "text"
      },
      "source": [
        "<a href=\"https://colab.research.google.com/github/Alfonsorod13/my-sample-project2/blob/master/ResolucionEDO_Alf_Jor_Ale.ipynb\" target=\"_parent\"><img src=\"https://colab.research.google.com/assets/colab-badge.svg\" alt=\"Open In Colab\"/></a>"
      ]
    },
    {
      "cell_type": "markdown",
      "source": [
        "# **Taller#3**\n",
        "## **Integrantes:** Alfonso Rodriguez, Gonzalez Alejandro, Jordy Rosales.\n",
        "\n",
        "## **Correos:** alfonso.rodriguez1@utp.ac.pa, alejandro.gonzalez10@utp.ac.pa, jordy.rosales@utp.ac.pa"
      ],
      "metadata": {
        "id": "mIUL7yKWa_n9"
      }
    },
    {
      "cell_type": "markdown",
      "source": [
        "# Problema 1 | *Integración Numérica*"
      ],
      "metadata": {
        "id": "mW43E1Adcza0"
      }
    },
    {
      "cell_type": "markdown",
      "source": [
        "## Metodo de Euler"
      ],
      "metadata": {
        "id": "2-d2gFCAusWZ"
      }
    },
    {
      "cell_type": "code",
      "source": [
        "import numpy as np\n",
        "import matplotlib.pyplot as plt\n",
        "\n",
        "plt.style.use('default') #tuvimos que cambiarlo a default porque daba un error en nuestro notebook de google.\n",
        "%matplotlib inline\n",
        "\n",
        "# Define parameters\n",
        "k = 1\n",
        "b = 1\n",
        "f = lambda x: -(k / b) * x# ODE\n",
        "h = 0.1 # Step size\n",
        "x = np.arange(0, 10.1, h) # Numerical grid\n",
        "print(x)\n",
        "\n",
        "# Explicit Euler Method\n",
        "y = np.zeros(len(x))\n",
        "y[0] = 0.5 # Initial Condition\n",
        "print(y)\n",
        "\n",
        "#Euler\n",
        "for i in range(0, len(x) - 1):\n",
        "    y[i + 1] = y[i] + h * f(y[i])\n",
        "\n",
        "for i, j in enumerate(zip(x,y)):\n",
        "  print(i, j)\n",
        "\n",
        "plt.figure(figsize=(12, 8))\n",
        "plt.plot(x, y, 'bo--', label='Aproximado')\n",
        "#plt.plot(x, np.exp(-(k / b) * x), 'g', label='Exacto') Descomentar para ver la grafica exacta\n",
        "plt.title('Aproximación y Solución Exacta')\n",
        "plt.xlabel('x')\n",
        "plt.ylabel('f(x)')\n",
        "plt.grid()\n",
        "plt.legend(loc='lower right')\n",
        "plt.show()\n",
        "\n"
      ],
      "metadata": {
        "id": "TZXMMR3Wh2qZ"
      },
      "execution_count": null,
      "outputs": []
    },
    {
      "cell_type": "markdown",
      "source": [
        "### h=0.001\n"
      ],
      "metadata": {
        "id": "Mj_ON6JS8M-G"
      }
    },
    {
      "cell_type": "code",
      "source": [
        "\n",
        "h = 0.001  # Step size\n",
        "x = np.arange(0, 10.001, h)  # Numerical grid\n",
        "\n",
        "# Explicit Euler Method\n",
        "y = np.zeros(len(x))\n",
        "y[0] = 0.5  # Initial Condition\n",
        "\n",
        "for i in range(0, len(x) - 1):\n",
        "    y[i + 1] = y[i] + h * f(y[i])\n",
        "\n",
        "plt.figure(figsize=(12, 8))\n",
        "plt.plot(x, y, 'bo--', label='Aproximado')\n",
        "plt.plot(x, np.exp(-(k / b) * x), 'g', label='Exacto')\n",
        "plt.title('Aproximación y Solución Exacta (h = 0.001)')\n",
        "plt.xlabel('x')\n",
        "plt.ylabel('f(x)')\n",
        "plt.grid()\n",
        "plt.legend(loc='lower right')\n",
        "plt.show()"
      ],
      "metadata": {
        "id": "Y1h8Ws6JvMo3"
      },
      "execution_count": null,
      "outputs": []
    },
    {
      "cell_type": "markdown",
      "source": [
        "### h=1"
      ],
      "metadata": {
        "id": "xQtGEfNq8Y_u"
      }
    },
    {
      "cell_type": "code",
      "source": [
        "h = 1  # Step size\n",
        "x = np.arange(0, 10.1, h)  # Numerical grid\n",
        "\n",
        "# Explicit Euler Method\n",
        "y = np.zeros(len(x))\n",
        "y[0] = 0.5  # Initial Condition\n",
        "\n",
        "for i in range(0, len(x) - 1):\n",
        "    y[i + 1] = y[i] + h * f(y[i])\n",
        "\n",
        "plt.figure(figsize=(12, 8))\n",
        "plt.plot(x, y, 'bo--', label='Aproximado')\n",
        "#plt.plot(x, np.exp(-(k / b) * x), 'g', label='Exacto')\n",
        "plt.title('Aproximación y Solución Exacta (h = 1)')\n",
        "plt.xlabel('x')\n",
        "plt.ylabel('f(x)')\n",
        "plt.grid()\n",
        "plt.legend(loc='lower right')\n",
        "plt.show()\n"
      ],
      "metadata": {
        "id": "Ks1LPFda78ff"
      },
      "execution_count": null,
      "outputs": []
    },
    {
      "cell_type": "markdown",
      "source": [
        "## Metodo de Euler Mejorado"
      ],
      "metadata": {
        "id": "2N4WHAAHuye4"
      }
    },
    {
      "cell_type": "code",
      "source": [
        "import numpy as np\n",
        "import matplotlib.pyplot as plt\n",
        "\n",
        "plt.style.use('default')\n",
        "%matplotlib inline\n",
        "\n",
        "# Define parameters\n",
        "f = lambda x: -(k / b) * x# ODE\n",
        "h = 0.1 # Step size\n",
        "x = np.arange(0, 10.1, h) # Numerical grid\n",
        "\n",
        "# Explicit Euler Method\n",
        "yp = np.zeros(len(x))\n",
        "yp[0] = 0.5 # Initial Condition\n",
        "\n",
        "yc = np.zeros(len(x)) #y corrector\n",
        "\n",
        "for i in range(0, len(x) -1):\n",
        "    yp[i + 1] = yp[i] + h*f(yp[i])\n",
        "    # print(yp[i + 1])\n",
        "    ant=f(yp[i])\n",
        "    sig=f(yp[i+1])\n",
        "    # print(ant,sig)\n",
        "    yc[i + 1] = yp[i] + h*((ant+sig)/2)\n",
        "    # print(yp[i + 1],yc[i + 1])\n",
        "\n",
        "for i,j in enumerate(zip(x,yc)):\n",
        "  print(i,j)\n",
        "lt.figure(figsize=(12, 8))\n",
        "plt.plot(x, yp, 'bo--', label='Aproximado (Predictor)')\n",
        "plt.plot(x, yc, 'g', label='Aproximado (Corrector)')\n",
        "plt.title('Aproximación utilizando el método Predictor-Corrector')\n",
        "plt.xlabel('x')\n",
        "plt.ylabel('f(x)')\n",
        "plt.grid()\n",
        "plt.legend(loc='lower right')\n",
        "plt.show()\n"
      ],
      "metadata": {
        "id": "c2IFjrVLpeDM"
      },
      "execution_count": null,
      "outputs": []
    },
    {
      "cell_type": "markdown",
      "source": [
        "### h=0.001\n",
        "\n"
      ],
      "metadata": {
        "id": "W-7_XcyW8yiW"
      }
    },
    {
      "cell_type": "code",
      "source": [
        "h = 0.001  # Step size\n",
        "x = np.arange(0, 10.001, h)  # Numerical grid\n",
        "\n",
        "# Explicit Euler Method\n",
        "yp = np.zeros(len(x))\n",
        "yp[0] = 0.5  # Initial Condition\n",
        "\n",
        "yc = np.zeros(len(x))  # y corrector\n",
        "\n",
        "for i in range(0, len(x) - 1):\n",
        "    yp[i + 1] = yp[i] + h * f(yp[i])\n",
        "    ant = f(yp[i])\n",
        "    sig = f(yp[i + 1])\n",
        "    yc[i + 1] = yp[i] + h * ((ant + sig) / 2)\n",
        "\n",
        "plt.figure(figsize=(12, 8))\n",
        "plt.plot(x, yp, 'bo--', label='Aproximado (Predictor)')\n",
        "plt.plot(x, yc, 'g', label='Aproximado (Corrector)')\n",
        "plt.title('Aproximación utilizando el método Predictor-Corrector (h = 0.001)')\n",
        "plt.xlabel('x')\n",
        "plt.ylabel('f(x)')\n",
        "plt.grid()\n",
        "plt.legend(loc='lower right')\n",
        "plt.show()\n"
      ],
      "metadata": {
        "id": "ZldRkmuh6PbI"
      },
      "execution_count": null,
      "outputs": []
    },
    {
      "cell_type": "markdown",
      "source": [
        "### h=1"
      ],
      "metadata": {
        "id": "JhbcL2gP812f"
      }
    },
    {
      "cell_type": "code",
      "source": [
        "h = 1  # Step size\n",
        "x = np.arange(0, 10.1, h)  # Numerical grid\n",
        "\n",
        "# Explicit Euler Method\n",
        "yp = np.zeros(len(x))\n",
        "yp[0] = 0.5  # Initial Condition\n",
        "\n",
        "yc = np.zeros(len(x))  # y corrector\n",
        "\n",
        "for i in range(0, len(x) - 1):\n",
        "    yp[i + 1] = yp[i] + h * f(yp[i])\n",
        "    ant = f(yp[i])\n",
        "    sig = f(yp[i + 1])\n",
        "    yc[i + 1] = yp[i] + h * ((ant + sig) / 2)\n",
        "\n",
        "plt.figure(figsize=(12, 8))\n",
        "plt.plot(x, yp, 'bo--', label='Aproximado (Predictor)')\n",
        "plt.plot(x, yc, 'g', label='Aproximado (Corrector)')\n",
        "plt.title('Aproximación utilizando el método Predictor-Corrector (h = 1)')\n",
        "plt.xlabel('x')\n",
        "plt.ylabel('f(x)')\n",
        "plt.grid()\n",
        "plt.legend(loc='lower right')\n",
        "plt.show()\n"
      ],
      "metadata": {
        "id": "xPf1jKEb8Aom"
      },
      "execution_count": null,
      "outputs": []
    },
    {
      "cell_type": "markdown",
      "source": [
        "# Problema 2 | *Solucion Aproximada vs Solucion Real*\n"
      ],
      "metadata": {
        "id": "B36gZ2tj9SNW"
      }
    },
    {
      "cell_type": "code",
      "source": [
        "import numpy as np\n",
        "import matplotlib.pyplot as plt\n",
        "\n",
        "plt.style.use('default')\n",
        "%matplotlib inline\n",
        "\n",
        "# Define parameters\n",
        "f = lambda x, y: x - y # ODE\n",
        "h = 0.05 # Step size\n",
        "x = np.arange(0, 5.01, h) # Numerical grid\n",
        "print(x)\n",
        "\n",
        "# Explicit Euler Method\n",
        "y = np.zeros(len(x))\n",
        "y[0] = 1 # Initial Condition\n",
        "print(y)\n",
        "\n",
        "#Euler\n",
        "for i in range(0, len(x)-1):\n",
        "    y[i + 1] = y[i] + h*f(x[i], y[i])\n",
        "\n",
        "for i,j in enumerate(zip(x,y)):\n",
        "  print(i,j)"
      ],
      "metadata": {
        "id": "ZnstIVpcCwx7"
      },
      "execution_count": null,
      "outputs": []
    },
    {
      "cell_type": "code",
      "source": [
        "plt.plot(x, y, 'bo', label='Solucion Aproximada')\n",
        "plt.plot(x, x - 1 + 2 * np.exp(-x), 'g', label='Solucion Actual')\n",
        "plt.xlabel('x')\n",
        "plt.ylabel('y')\n",
        "plt.legend()\n",
        "plt.show()"
      ],
      "metadata": {
        "id": "l0YyKE3XJ4Ed"
      },
      "execution_count": null,
      "outputs": []
    },
    {
      "cell_type": "code",
      "source": [
        "error = np.abs(y - (x - 1 + 2 * np.exp(-x)))\n",
        "\n",
        "plt.plot(x, error, label='Error Absoluto')\n",
        "plt.xlabel('x')\n",
        "plt.ylabel('Error Absoluto')\n",
        "plt.legend()\n",
        "plt.show()"
      ],
      "metadata": {
        "id": "kN4bV60jJ_Tu"
      },
      "execution_count": null,
      "outputs": []
    }
  ]
}